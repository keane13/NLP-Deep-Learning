{
  "nbformat": 4,
  "nbformat_minor": 0,
  "metadata": {
    "colab": {
      "name": "NLP02 - NLP with Neural Network.ipynb",
      "provenance": [],
      "toc_visible": true,
      "collapsed_sections": [
        "xtPVmaKEXzwF",
        "8MKB-ImqnF-p",
        "jPF4s1kHnHz9",
        "3E34tTKynKyt",
        "5ZxOykklnMcY",
        "YLYhaQb-nOoZ",
        "ltfyIRg2nRbh",
        "qMng7uwUX6hU",
        "fyQa6kR7sTb4",
        "n6hFPFphwhoj",
        "ca8xink2xKIV",
        "pg-o3f_M3i5K",
        "PMgQJoZn3lgg",
        "OkJ3F6Y33p2q",
        "idv20xj7m8Zw",
        "XfC1-N8wm_Q8",
        "jYK3j4denBjw",
        "xXKaUJ6FnDkl"
      ]
    },
    "kernelspec": {
      "name": "python3",
      "display_name": "Python 3"
    },
    "language_info": {
      "name": "python"
    }
  },
  "cells": [
    {
      "cell_type": "markdown",
      "source": [
        "# Bootcamp Match 2\n",
        "## NLP with Neural Network"
      ],
      "metadata": {
        "id": "ovaHKjk23SMu"
      }
    },
    {
      "cell_type": "markdown",
      "source": [
        "# Import Libraries\n",
        "Library yang dipakai adalah library data science standar dan keras untuk deep learning."
      ],
      "metadata": {
        "id": "w6Q9bzQW3mK1"
      }
    },
    {
      "cell_type": "code",
      "source": [
        "!pip install -q PySastrawi\n",
        "!pip install -q -U \"tensorflow-text==2.8.*\""
      ],
      "metadata": {
        "id": "xgVzIycc-6gt",
        "colab": {
          "base_uri": "https://localhost:8080/"
        },
        "outputId": "6008bb3e-f5fd-4aed-aac3-7926bc8c47d1"
      },
      "execution_count": null,
      "outputs": [
        {
          "output_type": "stream",
          "name": "stdout",
          "text": [
            "\u001b[K     |████████████████████████████████| 3.8 MB 5.4 MB/s \n",
            "\u001b[K     |████████████████████████████████| 596 kB 47.4 MB/s \n",
            "\u001b[K     |████████████████████████████████| 67 kB 5.2 MB/s \n",
            "\u001b[K     |████████████████████████████████| 6.5 MB 26.4 MB/s \n",
            "\u001b[K     |████████████████████████████████| 895 kB 46.8 MB/s \n",
            "\u001b[K     |████████████████████████████████| 210 kB 5.6 MB/s \n",
            "\u001b[K     |████████████████████████████████| 4.9 MB 5.6 MB/s \n",
            "\u001b[K     |████████████████████████████████| 462 kB 39.7 MB/s \n",
            "\u001b[?25h"
          ]
        }
      ]
    },
    {
      "cell_type": "code",
      "execution_count": null,
      "metadata": {
        "id": "Ntq6jfTb2-CA"
      },
      "outputs": [],
      "source": [
        "# Standar Library\n",
        "import re\n",
        "import string\n",
        "\n",
        "# Third-party Library\n",
        "import numpy as np\n",
        "import pandas as pd\n",
        "import matplotlib.pyplot as plt\n",
        "from sklearn.model_selection import train_test_split\n",
        "import keras\n",
        "from keras.preprocessing.text import Tokenizer\n",
        "from keras.preprocessing.sequence import pad_sequences\n",
        "import tensorflow as tf\n",
        "import tensorflow_text as text\n",
        "from tensorflow_text.tools.wordpiece_vocab import bert_vocab_from_dataset as bert_vocab\n",
        "from transformers import pipeline\n",
        "from transformers import AutoTokenizer, AutoModelForSequenceClassification\n",
        "from Sastrawi.Stemmer.StemmerFactory import StemmerFactory\n",
        "\n",
        "pd.set_option(\"display.max_colwidth\", 1000)"
      ]
    },
    {
      "cell_type": "markdown",
      "source": [
        "# Analisis Sentimen\n",
        "merupakan task untuk memprediksi sentimen dari sebuah tulisan. Data yang digunakan sama seperti kemarin, yaitu review penyedia jaringan seluler.\n",
        "\n",
        "Setelah melihat prosesnya, teman-teman boleh latihan lagi menggunakan data yang lain."
      ],
      "metadata": {
        "id": "EAUAa2Y3_I_Z"
      }
    },
    {
      "cell_type": "markdown",
      "source": [
        "## Data Collections\n",
        "Data yang kita gunakan adalah review dari sebuah penginapan."
      ],
      "metadata": {
        "id": "2bHlcHX7FESv"
      }
    },
    {
      "cell_type": "code",
      "source": [
        "!git clone https://github.com/rakkaalhazimi/Data-NLP-Bahasa-Indonesia.git"
      ],
      "metadata": {
        "id": "kSvUim0PFGPE",
        "colab": {
          "base_uri": "https://localhost:8080/"
        },
        "outputId": "e7d9b9d4-dca7-43f1-dae0-be50018bf3bc"
      },
      "execution_count": null,
      "outputs": [
        {
          "output_type": "stream",
          "name": "stdout",
          "text": [
            "Cloning into 'Data-NLP-Bahasa-Indonesia'...\n",
            "remote: Enumerating objects: 32, done.\u001b[K\n",
            "remote: Counting objects: 100% (32/32), done.\u001b[K\n",
            "remote: Compressing objects: 100% (28/28), done.\u001b[K\n",
            "remote: Total 32 (delta 7), reused 12 (delta 2), pack-reused 0\u001b[K\n",
            "Unpacking objects: 100% (32/32), done.\n"
          ]
        }
      ]
    },
    {
      "cell_type": "code",
      "source": [
        "df = pd.read_csv(\"/content/Data-NLP-Bahasa-Indonesia/dataset_tweet_sentiment_cellular_service_provider.csv\")\n",
        "df.head()"
      ],
      "metadata": {
        "colab": {
          "base_uri": "https://localhost:8080/",
          "height": 285
        },
        "id": "ULhfnUyvHK0z",
        "outputId": "f5d85bbd-72d2-4029-a472-d642c8bb8043"
      },
      "execution_count": null,
      "outputs": [
        {
          "output_type": "execute_result",
          "data": {
            "text/html": [
              "\n",
              "  <div id=\"df-654d81ce-ec4a-4810-9ae3-6d40786accd4\">\n",
              "    <div class=\"colab-df-container\">\n",
              "      <div>\n",
              "<style scoped>\n",
              "    .dataframe tbody tr th:only-of-type {\n",
              "        vertical-align: middle;\n",
              "    }\n",
              "\n",
              "    .dataframe tbody tr th {\n",
              "        vertical-align: top;\n",
              "    }\n",
              "\n",
              "    .dataframe thead th {\n",
              "        text-align: right;\n",
              "    }\n",
              "</style>\n",
              "<table border=\"1\" class=\"dataframe\">\n",
              "  <thead>\n",
              "    <tr style=\"text-align: right;\">\n",
              "      <th></th>\n",
              "      <th>Id</th>\n",
              "      <th>Sentiment</th>\n",
              "      <th>Text Tweet</th>\n",
              "    </tr>\n",
              "  </thead>\n",
              "  <tbody>\n",
              "    <tr>\n",
              "      <th>0</th>\n",
              "      <td>1</td>\n",
              "      <td>positive</td>\n",
              "      <td>&lt;USER_MENTION&gt; #BOIKOT_&lt;PROVIDER_NAME&gt; Gunakan Produk Bangsa Sendiri &lt;PROVIDER_NAME&gt;</td>\n",
              "    </tr>\n",
              "    <tr>\n",
              "      <th>1</th>\n",
              "      <td>2</td>\n",
              "      <td>positive</td>\n",
              "      <td>Saktinya balik lagi, alhamdulillah :v &lt;PROVIDER_NAME&gt;</td>\n",
              "    </tr>\n",
              "    <tr>\n",
              "      <th>2</th>\n",
              "      <td>3</td>\n",
              "      <td>negative</td>\n",
              "      <td>Selamat pagi &lt;PROVIDER_NAME&gt;  bisa bantu kenapa di dalam kamar sinyal 4G hilang yang 1 lagi panggilan darurat saja  &lt;URL&gt;</td>\n",
              "    </tr>\n",
              "    <tr>\n",
              "      <th>3</th>\n",
              "      <td>4</td>\n",
              "      <td>negative</td>\n",
              "      <td>Dear &lt;PROVIDER_NAME&gt; akhir2 ini jaringan data lemot banget padahal H+ !!!!</td>\n",
              "    </tr>\n",
              "    <tr>\n",
              "      <th>4</th>\n",
              "      <td>5</td>\n",
              "      <td>negative</td>\n",
              "      <td>Selamat malam PENDUSTA &lt;PROVIDER_NAME&gt;</td>\n",
              "    </tr>\n",
              "  </tbody>\n",
              "</table>\n",
              "</div>\n",
              "      <button class=\"colab-df-convert\" onclick=\"convertToInteractive('df-654d81ce-ec4a-4810-9ae3-6d40786accd4')\"\n",
              "              title=\"Convert this dataframe to an interactive table.\"\n",
              "              style=\"display:none;\">\n",
              "        \n",
              "  <svg xmlns=\"http://www.w3.org/2000/svg\" height=\"24px\"viewBox=\"0 0 24 24\"\n",
              "       width=\"24px\">\n",
              "    <path d=\"M0 0h24v24H0V0z\" fill=\"none\"/>\n",
              "    <path d=\"M18.56 5.44l.94 2.06.94-2.06 2.06-.94-2.06-.94-.94-2.06-.94 2.06-2.06.94zm-11 1L8.5 8.5l.94-2.06 2.06-.94-2.06-.94L8.5 2.5l-.94 2.06-2.06.94zm10 10l.94 2.06.94-2.06 2.06-.94-2.06-.94-.94-2.06-.94 2.06-2.06.94z\"/><path d=\"M17.41 7.96l-1.37-1.37c-.4-.4-.92-.59-1.43-.59-.52 0-1.04.2-1.43.59L10.3 9.45l-7.72 7.72c-.78.78-.78 2.05 0 2.83L4 21.41c.39.39.9.59 1.41.59.51 0 1.02-.2 1.41-.59l7.78-7.78 2.81-2.81c.8-.78.8-2.07 0-2.86zM5.41 20L4 18.59l7.72-7.72 1.47 1.35L5.41 20z\"/>\n",
              "  </svg>\n",
              "      </button>\n",
              "      \n",
              "  <style>\n",
              "    .colab-df-container {\n",
              "      display:flex;\n",
              "      flex-wrap:wrap;\n",
              "      gap: 12px;\n",
              "    }\n",
              "\n",
              "    .colab-df-convert {\n",
              "      background-color: #E8F0FE;\n",
              "      border: none;\n",
              "      border-radius: 50%;\n",
              "      cursor: pointer;\n",
              "      display: none;\n",
              "      fill: #1967D2;\n",
              "      height: 32px;\n",
              "      padding: 0 0 0 0;\n",
              "      width: 32px;\n",
              "    }\n",
              "\n",
              "    .colab-df-convert:hover {\n",
              "      background-color: #E2EBFA;\n",
              "      box-shadow: 0px 1px 2px rgba(60, 64, 67, 0.3), 0px 1px 3px 1px rgba(60, 64, 67, 0.15);\n",
              "      fill: #174EA6;\n",
              "    }\n",
              "\n",
              "    [theme=dark] .colab-df-convert {\n",
              "      background-color: #3B4455;\n",
              "      fill: #D2E3FC;\n",
              "    }\n",
              "\n",
              "    [theme=dark] .colab-df-convert:hover {\n",
              "      background-color: #434B5C;\n",
              "      box-shadow: 0px 1px 3px 1px rgba(0, 0, 0, 0.15);\n",
              "      filter: drop-shadow(0px 1px 2px rgba(0, 0, 0, 0.3));\n",
              "      fill: #FFFFFF;\n",
              "    }\n",
              "  </style>\n",
              "\n",
              "      <script>\n",
              "        const buttonEl =\n",
              "          document.querySelector('#df-654d81ce-ec4a-4810-9ae3-6d40786accd4 button.colab-df-convert');\n",
              "        buttonEl.style.display =\n",
              "          google.colab.kernel.accessAllowed ? 'block' : 'none';\n",
              "\n",
              "        async function convertToInteractive(key) {\n",
              "          const element = document.querySelector('#df-654d81ce-ec4a-4810-9ae3-6d40786accd4');\n",
              "          const dataTable =\n",
              "            await google.colab.kernel.invokeFunction('convertToInteractive',\n",
              "                                                     [key], {});\n",
              "          if (!dataTable) return;\n",
              "\n",
              "          const docLinkHtml = 'Like what you see? Visit the ' +\n",
              "            '<a target=\"_blank\" href=https://colab.research.google.com/notebooks/data_table.ipynb>data table notebook</a>'\n",
              "            + ' to learn more about interactive tables.';\n",
              "          element.innerHTML = '';\n",
              "          dataTable['output_type'] = 'display_data';\n",
              "          await google.colab.output.renderOutput(dataTable, element);\n",
              "          const docLink = document.createElement('div');\n",
              "          docLink.innerHTML = docLinkHtml;\n",
              "          element.appendChild(docLink);\n",
              "        }\n",
              "      </script>\n",
              "    </div>\n",
              "  </div>\n",
              "  "
            ],
            "text/plain": [
              "   Id Sentiment  \\\n",
              "0   1  positive   \n",
              "1   2  positive   \n",
              "2   3  negative   \n",
              "3   4  negative   \n",
              "4   5  negative   \n",
              "\n",
              "                                                                                                                  Text Tweet  \n",
              "0                                       <USER_MENTION> #BOIKOT_<PROVIDER_NAME> Gunakan Produk Bangsa Sendiri <PROVIDER_NAME>  \n",
              "1                                                                      Saktinya balik lagi, alhamdulillah :v <PROVIDER_NAME>  \n",
              "2  Selamat pagi <PROVIDER_NAME>  bisa bantu kenapa di dalam kamar sinyal 4G hilang yang 1 lagi panggilan darurat saja  <URL>  \n",
              "3                                                 Dear <PROVIDER_NAME> akhir2 ini jaringan data lemot banget padahal H+ !!!!  \n",
              "4                                                                                    Selamat malam PENDUSTA <PROVIDER_NAME>   "
            ]
          },
          "metadata": {},
          "execution_count": 8
        }
      ]
    },
    {
      "cell_type": "markdown",
      "source": [
        "## Text Preprocessing\n",
        "Review pasti datang dengan format dan penulisan yang berbeda-beda, maka dari itu kita perlu menyusun sistem untuk merapikan dan membersihkan teks dalam review-review tersebut."
      ],
      "metadata": {
        "id": "UtAsgoWJErJw"
      }
    },
    {
      "cell_type": "markdown",
      "source": [
        "### Text Cleaning\n",
        "Secara spesifik, hal yang akan kita lakukan adalah:\n",
        "1. Pengubahan beberapa tanda baca menjadi spasi.\n",
        "2. Reduksi spasi yang berlebihan menjadi satu spasi.\n",
        "3. Penyamaan huruf besar dan kecil."
      ],
      "metadata": {
        "id": "VjdLQhIDFnft"
      }
    },
    {
      "cell_type": "code",
      "source": [
        "punctuations = re.sub(r\"[!<_>#:)\\.]\", \"\", string.punctuation)\n",
        "\n",
        "def punct2wspace(text):\n",
        "    return re.sub(r\"[{}]+\".format(punctuations), \" \", text)\n",
        "\n",
        "def normalize_wspace(text):\n",
        "    return re.sub(r\"\\s+\", \" \", text)\n",
        "\n",
        "def casefolding(text):\n",
        "    return text.lower()"
      ],
      "metadata": {
        "id": "o0m3OiH4I8js"
      },
      "execution_count": null,
      "outputs": []
    },
    {
      "cell_type": "code",
      "source": [
        "# create stemmer\n",
        "factory = StemmerFactory()\n",
        "stemmer = factory.create_stemmer()\n",
        "\n",
        "# stemming process\n",
        "sentence = \"Perekonomian Indonesia sedang dalam pertumbuhan yang membanggakan\"\n",
        "output   = stemmer.stem(sentence)\n",
        "\n",
        "print(output)\n",
        "# ekonomi indonesia sedang dalam tumbuh yang bangga\n",
        "\n",
        "print(stemmer.stem(\"Mereka meniru-nirukannya\"))"
      ],
      "metadata": {
        "colab": {
          "base_uri": "https://localhost:8080/"
        },
        "id": "904zfS-tK2JC",
        "outputId": "2e1d1736-1443-4f81-cccb-1efe17ffb84f"
      },
      "execution_count": null,
      "outputs": [
        {
          "output_type": "stream",
          "name": "stdout",
          "text": [
            "ekonomi indonesia sedang dalam tumbuh yang bangga\n",
            "mereka tiru\n"
          ]
        }
      ]
    },
    {
      "cell_type": "markdown",
      "source": [
        "### Preprocess"
      ],
      "metadata": {
        "id": "YGPMoeO8NW6w"
      }
    },
    {
      "cell_type": "code",
      "source": [
        "def preprocess_text(text):\n",
        "    text = punct2wspace(text)\n",
        "    text = normalize_wspace(text)\n",
        "    text = casefolding(text)\n",
        "    # text = stemmer.stem(text)\n",
        "    return text\n",
        "\n",
        "preprocess_text(\"rakka@alhazimi\")"
      ],
      "metadata": {
        "colab": {
          "base_uri": "https://localhost:8080/",
          "height": 35
        },
        "id": "znD04dQSNYbd",
        "outputId": "127e4195-c6a0-48ea-9ddd-bd9f676d253b"
      },
      "execution_count": null,
      "outputs": [
        {
          "output_type": "execute_result",
          "data": {
            "application/vnd.google.colaboratory.intrinsic+json": {
              "type": "string"
            },
            "text/plain": [
              "'rakka alhazimi'"
            ]
          },
          "metadata": {},
          "execution_count": 11
        }
      ]
    },
    {
      "cell_type": "code",
      "source": [
        "# Ilustrasi teks yang sudah dibersihkan\n",
        "df[\"cleaned_text\"] = df[\"Text Tweet\"].apply(preprocess_text)\n",
        "df.head()"
      ],
      "metadata": {
        "colab": {
          "base_uri": "https://localhost:8080/",
          "height": 424
        },
        "id": "24RqdnGNFx2W",
        "outputId": "86dc966d-ae37-4dd8-9509-d45250831ac3"
      },
      "execution_count": null,
      "outputs": [
        {
          "output_type": "execute_result",
          "data": {
            "text/html": [
              "\n",
              "  <div id=\"df-3236a735-749e-444a-91db-aa6e0c7afa1c\">\n",
              "    <div class=\"colab-df-container\">\n",
              "      <div>\n",
              "<style scoped>\n",
              "    .dataframe tbody tr th:only-of-type {\n",
              "        vertical-align: middle;\n",
              "    }\n",
              "\n",
              "    .dataframe tbody tr th {\n",
              "        vertical-align: top;\n",
              "    }\n",
              "\n",
              "    .dataframe thead th {\n",
              "        text-align: right;\n",
              "    }\n",
              "</style>\n",
              "<table border=\"1\" class=\"dataframe\">\n",
              "  <thead>\n",
              "    <tr style=\"text-align: right;\">\n",
              "      <th></th>\n",
              "      <th>Id</th>\n",
              "      <th>Sentiment</th>\n",
              "      <th>Text Tweet</th>\n",
              "      <th>cleaned_text</th>\n",
              "    </tr>\n",
              "  </thead>\n",
              "  <tbody>\n",
              "    <tr>\n",
              "      <th>0</th>\n",
              "      <td>1</td>\n",
              "      <td>positive</td>\n",
              "      <td>&lt;USER_MENTION&gt; #BOIKOT_&lt;PROVIDER_NAME&gt; Gunakan Produk Bangsa Sendiri &lt;PROVIDER_NAME&gt;</td>\n",
              "      <td>&lt;user_mention&gt; #boikot_&lt;provider_name&gt; gunakan produk bangsa sendiri &lt;provider_name&gt;</td>\n",
              "    </tr>\n",
              "    <tr>\n",
              "      <th>1</th>\n",
              "      <td>2</td>\n",
              "      <td>positive</td>\n",
              "      <td>Saktinya balik lagi, alhamdulillah :v &lt;PROVIDER_NAME&gt;</td>\n",
              "      <td>saktinya balik lagi alhamdulillah :v &lt;provider_name&gt;</td>\n",
              "    </tr>\n",
              "    <tr>\n",
              "      <th>2</th>\n",
              "      <td>3</td>\n",
              "      <td>negative</td>\n",
              "      <td>Selamat pagi &lt;PROVIDER_NAME&gt;  bisa bantu kenapa di dalam kamar sinyal 4G hilang yang 1 lagi panggilan darurat saja  &lt;URL&gt;</td>\n",
              "      <td>selamat pagi &lt;provider_name&gt; bisa bantu kenapa di dalam kamar sinyal 4g hilang yang 1 lagi panggilan darurat saja &lt;url&gt;</td>\n",
              "    </tr>\n",
              "    <tr>\n",
              "      <th>3</th>\n",
              "      <td>4</td>\n",
              "      <td>negative</td>\n",
              "      <td>Dear &lt;PROVIDER_NAME&gt; akhir2 ini jaringan data lemot banget padahal H+ !!!!</td>\n",
              "      <td>dear &lt;provider_name&gt; akhir2 ini jaringan data lemot banget padahal h !!!!</td>\n",
              "    </tr>\n",
              "    <tr>\n",
              "      <th>4</th>\n",
              "      <td>5</td>\n",
              "      <td>negative</td>\n",
              "      <td>Selamat malam PENDUSTA &lt;PROVIDER_NAME&gt;</td>\n",
              "      <td>selamat malam pendusta &lt;provider_name&gt;</td>\n",
              "    </tr>\n",
              "  </tbody>\n",
              "</table>\n",
              "</div>\n",
              "      <button class=\"colab-df-convert\" onclick=\"convertToInteractive('df-3236a735-749e-444a-91db-aa6e0c7afa1c')\"\n",
              "              title=\"Convert this dataframe to an interactive table.\"\n",
              "              style=\"display:none;\">\n",
              "        \n",
              "  <svg xmlns=\"http://www.w3.org/2000/svg\" height=\"24px\"viewBox=\"0 0 24 24\"\n",
              "       width=\"24px\">\n",
              "    <path d=\"M0 0h24v24H0V0z\" fill=\"none\"/>\n",
              "    <path d=\"M18.56 5.44l.94 2.06.94-2.06 2.06-.94-2.06-.94-.94-2.06-.94 2.06-2.06.94zm-11 1L8.5 8.5l.94-2.06 2.06-.94-2.06-.94L8.5 2.5l-.94 2.06-2.06.94zm10 10l.94 2.06.94-2.06 2.06-.94-2.06-.94-.94-2.06-.94 2.06-2.06.94z\"/><path d=\"M17.41 7.96l-1.37-1.37c-.4-.4-.92-.59-1.43-.59-.52 0-1.04.2-1.43.59L10.3 9.45l-7.72 7.72c-.78.78-.78 2.05 0 2.83L4 21.41c.39.39.9.59 1.41.59.51 0 1.02-.2 1.41-.59l7.78-7.78 2.81-2.81c.8-.78.8-2.07 0-2.86zM5.41 20L4 18.59l7.72-7.72 1.47 1.35L5.41 20z\"/>\n",
              "  </svg>\n",
              "      </button>\n",
              "      \n",
              "  <style>\n",
              "    .colab-df-container {\n",
              "      display:flex;\n",
              "      flex-wrap:wrap;\n",
              "      gap: 12px;\n",
              "    }\n",
              "\n",
              "    .colab-df-convert {\n",
              "      background-color: #E8F0FE;\n",
              "      border: none;\n",
              "      border-radius: 50%;\n",
              "      cursor: pointer;\n",
              "      display: none;\n",
              "      fill: #1967D2;\n",
              "      height: 32px;\n",
              "      padding: 0 0 0 0;\n",
              "      width: 32px;\n",
              "    }\n",
              "\n",
              "    .colab-df-convert:hover {\n",
              "      background-color: #E2EBFA;\n",
              "      box-shadow: 0px 1px 2px rgba(60, 64, 67, 0.3), 0px 1px 3px 1px rgba(60, 64, 67, 0.15);\n",
              "      fill: #174EA6;\n",
              "    }\n",
              "\n",
              "    [theme=dark] .colab-df-convert {\n",
              "      background-color: #3B4455;\n",
              "      fill: #D2E3FC;\n",
              "    }\n",
              "\n",
              "    [theme=dark] .colab-df-convert:hover {\n",
              "      background-color: #434B5C;\n",
              "      box-shadow: 0px 1px 3px 1px rgba(0, 0, 0, 0.15);\n",
              "      filter: drop-shadow(0px 1px 2px rgba(0, 0, 0, 0.3));\n",
              "      fill: #FFFFFF;\n",
              "    }\n",
              "  </style>\n",
              "\n",
              "      <script>\n",
              "        const buttonEl =\n",
              "          document.querySelector('#df-3236a735-749e-444a-91db-aa6e0c7afa1c button.colab-df-convert');\n",
              "        buttonEl.style.display =\n",
              "          google.colab.kernel.accessAllowed ? 'block' : 'none';\n",
              "\n",
              "        async function convertToInteractive(key) {\n",
              "          const element = document.querySelector('#df-3236a735-749e-444a-91db-aa6e0c7afa1c');\n",
              "          const dataTable =\n",
              "            await google.colab.kernel.invokeFunction('convertToInteractive',\n",
              "                                                     [key], {});\n",
              "          if (!dataTable) return;\n",
              "\n",
              "          const docLinkHtml = 'Like what you see? Visit the ' +\n",
              "            '<a target=\"_blank\" href=https://colab.research.google.com/notebooks/data_table.ipynb>data table notebook</a>'\n",
              "            + ' to learn more about interactive tables.';\n",
              "          element.innerHTML = '';\n",
              "          dataTable['output_type'] = 'display_data';\n",
              "          await google.colab.output.renderOutput(dataTable, element);\n",
              "          const docLink = document.createElement('div');\n",
              "          docLink.innerHTML = docLinkHtml;\n",
              "          element.appendChild(docLink);\n",
              "        }\n",
              "      </script>\n",
              "    </div>\n",
              "  </div>\n",
              "  "
            ],
            "text/plain": [
              "   Id Sentiment  \\\n",
              "0   1  positive   \n",
              "1   2  positive   \n",
              "2   3  negative   \n",
              "3   4  negative   \n",
              "4   5  negative   \n",
              "\n",
              "                                                                                                                  Text Tweet  \\\n",
              "0                                       <USER_MENTION> #BOIKOT_<PROVIDER_NAME> Gunakan Produk Bangsa Sendiri <PROVIDER_NAME>   \n",
              "1                                                                      Saktinya balik lagi, alhamdulillah :v <PROVIDER_NAME>   \n",
              "2  Selamat pagi <PROVIDER_NAME>  bisa bantu kenapa di dalam kamar sinyal 4G hilang yang 1 lagi panggilan darurat saja  <URL>   \n",
              "3                                                 Dear <PROVIDER_NAME> akhir2 ini jaringan data lemot banget padahal H+ !!!!   \n",
              "4                                                                                    Selamat malam PENDUSTA <PROVIDER_NAME>    \n",
              "\n",
              "                                                                                                              cleaned_text  \n",
              "0                                     <user_mention> #boikot_<provider_name> gunakan produk bangsa sendiri <provider_name>  \n",
              "1                                                                     saktinya balik lagi alhamdulillah :v <provider_name>  \n",
              "2  selamat pagi <provider_name> bisa bantu kenapa di dalam kamar sinyal 4g hilang yang 1 lagi panggilan darurat saja <url>  \n",
              "3                                                dear <provider_name> akhir2 ini jaringan data lemot banget padahal h !!!!  \n",
              "4                                                                                  selamat malam pendusta <provider_name>   "
            ]
          },
          "metadata": {},
          "execution_count": 12
        }
      ]
    },
    {
      "cell_type": "markdown",
      "source": [
        "### Dapatkan text dan label"
      ],
      "metadata": {
        "id": "xtPVmaKEXzwF"
      }
    },
    {
      "cell_type": "code",
      "source": [
        "target = df[\"Sentiment\"].map({\"positive\": 1, \"negative\": 0})\n",
        "features_text = df[\"cleaned_text\"]"
      ],
      "metadata": {
        "id": "8I_pineV6S1B"
      },
      "execution_count": null,
      "outputs": []
    },
    {
      "cell_type": "markdown",
      "source": [
        "## Input Pipeline\n",
        "Berbeda dengan machine learning pada umumnya, kita perlu mengubah data teks ke bentuk vektor yang berisikan token ID masing-masing kata. \n",
        "\n",
        "Jadi jika ada kata \"saya suka python\" maka kata tersebut akan diubah menjadi [2, 0, 1], apabila kosa kata terdiri dari 0: suka, 1: python dan 2: saya."
      ],
      "metadata": {
        "id": "70DNxE-w4QVa"
      }
    },
    {
      "cell_type": "markdown",
      "source": [
        "### Split Data"
      ],
      "metadata": {
        "id": "FIB6J5WfMcxa"
      }
    },
    {
      "cell_type": "code",
      "source": [
        "X_train, X_test, y_train, y_test = train_test_split(features_text, target, random_state=42)"
      ],
      "metadata": {
        "id": "UaneZs3BMd4L"
      },
      "execution_count": null,
      "outputs": []
    },
    {
      "cell_type": "markdown",
      "source": [
        "### Tf Dataset"
      ],
      "metadata": {
        "id": "zgPbMXpq-WLI"
      }
    },
    {
      "cell_type": "code",
      "source": [
        "BATCH_SIZE = 32"
      ],
      "metadata": {
        "id": "byRrRuIaJeyx"
      },
      "execution_count": null,
      "outputs": []
    },
    {
      "cell_type": "code",
      "source": [
        "# Ubah input menjadi objek tf.data.Dataset\n",
        "train_dataset = tf.data.Dataset.from_tensor_slices((X_train, y_train))\n",
        "test_dataset = tf.data.Dataset.from_tensor_slices((X_test, y_test))\n",
        "\n",
        "# Terapkan shuffle, batch dan prefetch pada dataset\n",
        "train_dataset = train_dataset.batch(BATCH_SIZE).prefetch(tf.data.AUTOTUNE)\n",
        "test_dataset = test_dataset.batch(BATCH_SIZE).prefetch(tf.data.AUTOTUNE)"
      ],
      "metadata": {
        "id": "gQpz-q3P6Cq7"
      },
      "execution_count": null,
      "outputs": []
    },
    {
      "cell_type": "code",
      "source": [
        "# Melihat isi dataset\n",
        "for feat, tar in train_dataset.take(1):\n",
        "    print(feat[:3])\n",
        "    print(tar[:3])"
      ],
      "metadata": {
        "colab": {
          "base_uri": "https://localhost:8080/"
        },
        "id": "h72IZOJk8W82",
        "outputId": "78c8d72e-bcec-4852-87a3-bce72cb1e3ce"
      },
      "execution_count": null,
      "outputs": [
        {
          "output_type": "stream",
          "name": "stdout",
          "text": [
            "tf.Tensor(\n",
            "[b'<provider_name> hancur jaringannya'\n",
            " b'webnya <provider_name> dibajak ya cie dibajak semoga habis ini paket2 spam2 dan promo2nya makin subur <provider_name>'\n",
            " b'ini prinsip soalnya <provider_name> lebih murah dari <provider_name> masalah sinyal disini alhamdulillah kencang karena di kota besar kok'], shape=(3,), dtype=string)\n",
            "tf.Tensor([0 0 1], shape=(3,), dtype=int64)\n"
          ]
        }
      ]
    },
    {
      "cell_type": "markdown",
      "source": [
        "### Text Encoder"
      ],
      "metadata": {
        "id": "yFSU6jsb7rao"
      }
    },
    {
      "cell_type": "code",
      "source": [
        "max_features = 10000      # Jumlah kosakata\n",
        "embedding_dim = 16        # Jumlah dimensi dalam word embedding"
      ],
      "metadata": {
        "id": "3w7iDMU84R3w"
      },
      "execution_count": null,
      "outputs": []
    },
    {
      "cell_type": "code",
      "source": [
        "# Buat text vectorizer\n",
        "encoder = keras.layers.TextVectorization(max_tokens=max_features)\n",
        "\n",
        "# Latih tokenizer pada data teks\n",
        "encoder.adapt(train_dataset.map(lambda feat, tar: feat))"
      ],
      "metadata": {
        "id": "TrEqvHoe7s-3"
      },
      "execution_count": null,
      "outputs": []
    },
    {
      "cell_type": "code",
      "source": [
        "# Tokenisasi data teks\n",
        "encoder(feat)[:3]"
      ],
      "metadata": {
        "colab": {
          "base_uri": "https://localhost:8080/"
        },
        "id": "rF9DEIlD9AqM",
        "outputId": "7386f08b-843f-4dae-bf4f-a9794337bab4"
      },
      "execution_count": null,
      "outputs": [
        {
          "output_type": "execute_result",
          "data": {
            "text/plain": [
              "<tf.Tensor: shape=(3, 20), dtype=int64, numpy=\n",
              "array([[  2, 283, 172,   0,   0,   0,   0,   0,   0,   0,   0,   0,   0,\n",
              "          0,   0,   0,   0,   0,   0,   0],\n",
              "       [319,   2, 294,  28, 762, 294, 142,  63,  11, 488, 385,  21, 461,\n",
              "         20, 381,   2,   0,   0,   0,   0],\n",
              "       [ 11, 463, 388,   2,  43,  61,  13,   2, 266,   9,  92,  38, 119,\n",
              "         30,   3,  87, 298,  48,   0,   0]])>"
            ]
          },
          "metadata": {},
          "execution_count": 22
        }
      ]
    },
    {
      "cell_type": "markdown",
      "source": [
        "## Model Building: Neural Network"
      ],
      "metadata": {
        "id": "0xWGgMp86_v9"
      }
    },
    {
      "cell_type": "markdown",
      "source": [
        "### Bangun Model"
      ],
      "metadata": {
        "id": "8MKB-ImqnF-p"
      }
    },
    {
      "cell_type": "code",
      "source": [
        "# Buat model sequential (berurutan)\n",
        "model = keras.Sequential()\n",
        "model.add(encoder)\n",
        "model.add(keras.layers.Embedding(\n",
        "    input_dim=len(encoder.get_vocabulary()), \n",
        "    output_dim=embedding_dim, \n",
        "    mask_zero=True)\n",
        ")\n",
        "model.add(keras.layers.LSTM(16, return_sequences=True))\n",
        "model.add(keras.layers.LSTM(16))\n",
        "model.add(keras.layers.Dropout(0.5))\n",
        "model.add(keras.layers.Dense(8))\n",
        "model.add(keras.layers.Dense(1, activation=\"sigmoid\"))\n",
        "\n",
        "# Tentukan loss, optimizer dan metrik yang akan digunakan\n",
        "model.compile(loss=\"binary_crossentropy\", \n",
        "              optimizer=\"rmsprop\",\n",
        "              metrics=[\"acc\"])"
      ],
      "metadata": {
        "id": "5C-G89eS7CEk"
      },
      "execution_count": null,
      "outputs": []
    },
    {
      "cell_type": "markdown",
      "source": [
        "### Struktur Model"
      ],
      "metadata": {
        "id": "jPF4s1kHnHz9"
      }
    },
    {
      "cell_type": "code",
      "source": [
        "# Melihat arsitektur model\n",
        "model.summary()"
      ],
      "metadata": {
        "colab": {
          "base_uri": "https://localhost:8080/"
        },
        "id": "Wk7N8Ogv7H-v",
        "outputId": "0efad3c2-eaca-4bc6-c3f7-d00103a7b1e6"
      },
      "execution_count": null,
      "outputs": [
        {
          "output_type": "stream",
          "name": "stdout",
          "text": [
            "Model: \"sequential_3\"\n",
            "_________________________________________________________________\n",
            " Layer (type)                Output Shape              Param #   \n",
            "=================================================================\n",
            " text_vectorization (TextVec  (None, None)             0         \n",
            " torization)                                                     \n",
            "                                                                 \n",
            " embedding_3 (Embedding)     (None, None, 16)          13856     \n",
            "                                                                 \n",
            " lstm_4 (LSTM)               (None, None, 16)          2112      \n",
            "                                                                 \n",
            " lstm_5 (LSTM)               (None, 16)                2112      \n",
            "                                                                 \n",
            " dropout_2 (Dropout)         (None, 16)                0         \n",
            "                                                                 \n",
            " dense_4 (Dense)             (None, 8)                 136       \n",
            "                                                                 \n",
            " dense_5 (Dense)             (None, 1)                 9         \n",
            "                                                                 \n",
            "=================================================================\n",
            "Total params: 18,225\n",
            "Trainable params: 18,225\n",
            "Non-trainable params: 0\n",
            "_________________________________________________________________\n"
          ]
        }
      ]
    },
    {
      "cell_type": "markdown",
      "source": [
        "### Bentuk Model"
      ],
      "metadata": {
        "id": "3E34tTKynKyt"
      }
    },
    {
      "cell_type": "code",
      "source": [
        "# Melihat Diagram Model\n",
        "keras.utils.vis_utils.plot_model(model, \"model.png\")"
      ],
      "metadata": {
        "colab": {
          "base_uri": "https://localhost:8080/",
          "height": 661
        },
        "id": "xz0-dOoL7JCy",
        "outputId": "53ce1bfe-58ee-42b0-9215-2206f33cd291"
      },
      "execution_count": null,
      "outputs": [
        {
          "output_type": "execute_result",
          "data": {
            "image/png": "[encoded data removed]",
            "text/plain": [
              "<IPython.core.display.Image object>"
            ]
          },
          "metadata": {},
          "execution_count": 27
        }
      ]
    },
    {
      "cell_type": "markdown",
      "source": [
        "### Latih Model"
      ],
      "metadata": {
        "id": "5ZxOykklnMcY"
      }
    },
    {
      "cell_type": "code",
      "source": [
        "# Melatih model\n",
        "history = model.fit(train_dataset,\n",
        "                    epochs=10,\n",
        "                    validation_data=test_dataset)"
      ],
      "metadata": {
        "colab": {
          "base_uri": "https://localhost:8080/"
        },
        "id": "47fY69qf7iUG",
        "outputId": "774cc06a-49c6-4e19-a95f-f3670390994d"
      },
      "execution_count": null,
      "outputs": [
        {
          "output_type": "stream",
          "name": "stdout",
          "text": [
            "Epoch 1/10\n",
            "8/8 [==============================] - 16s 440ms/step - loss: 0.6939 - acc: 0.4978 - val_loss: 0.6920 - val_acc: 0.6133\n",
            "Epoch 2/10\n",
            "8/8 [==============================] - 0s 33ms/step - loss: 0.6894 - acc: 0.6489 - val_loss: 0.6900 - val_acc: 0.7467\n",
            "Epoch 3/10\n",
            "8/8 [==============================] - 0s 34ms/step - loss: 0.6853 - acc: 0.7156 - val_loss: 0.6888 - val_acc: 0.6667\n",
            "Epoch 4/10\n",
            "8/8 [==============================] - 0s 26ms/step - loss: 0.6797 - acc: 0.7733 - val_loss: 0.6857 - val_acc: 0.6000\n",
            "Epoch 5/10\n",
            "8/8 [==============================] - 0s 17ms/step - loss: 0.6679 - acc: 0.8800 - val_loss: 0.6801 - val_acc: 0.6000\n",
            "Epoch 6/10\n",
            "8/8 [==============================] - 0s 19ms/step - loss: 0.6520 - acc: 0.8267 - val_loss: 0.6684 - val_acc: 0.6400\n",
            "Epoch 7/10\n",
            "8/8 [==============================] - 0s 17ms/step - loss: 0.6135 - acc: 0.9111 - val_loss: 0.6408 - val_acc: 0.6800\n",
            "Epoch 8/10\n",
            "8/8 [==============================] - 0s 20ms/step - loss: 0.5513 - acc: 0.9289 - val_loss: 0.5907 - val_acc: 0.8133\n",
            "Epoch 9/10\n",
            "8/8 [==============================] - 0s 17ms/step - loss: 0.4673 - acc: 0.9422 - val_loss: 0.5189 - val_acc: 0.8400\n",
            "Epoch 10/10\n",
            "8/8 [==============================] - 0s 16ms/step - loss: 0.3755 - acc: 0.9911 - val_loss: 0.4424 - val_acc: 0.8800\n"
          ]
        }
      ]
    },
    {
      "cell_type": "markdown",
      "source": [
        "### Evaluasi Model"
      ],
      "metadata": {
        "id": "YLYhaQb-nOoZ"
      }
    },
    {
      "cell_type": "code",
      "source": [
        "plt.figure()\n",
        "plt.title(\"Akurasi\")\n",
        "plt.plot(history.history[\"acc\"])\n",
        "plt.plot(history.history[\"val_acc\"])\n",
        "\n",
        "plt.figure()\n",
        "plt.title(\"Loss\")\n",
        "plt.plot(history.history[\"loss\"])\n",
        "plt.plot(history.history[\"val_loss\"])\n",
        "\n",
        "plt.show()"
      ],
      "metadata": {
        "id": "WT-655ssFCSB",
        "colab": {
          "base_uri": "https://localhost:8080/",
          "height": 545
        },
        "outputId": "87dcebff-6976-4da9-e744-12d479302ab9"
      },
      "execution_count": null,
      "outputs": [
        {
          "output_type": "display_data",
          "data": {
            "image/png": "[encoded data removed]",
            "text/plain": [
              "<Figure size 432x288 with 1 Axes>"
            ]
          },
          "metadata": {
            "needs_background": "light"
          }
        },
        {
          "output_type": "display_data",
          "data": {
            "image/png": "[encoded data removed]",
            "text/plain": [
              "<Figure size 432x288 with 1 Axes>"
            ]
          },
          "metadata": {
            "needs_background": "light"
          }
        }
      ]
    },
    {
      "cell_type": "markdown",
      "source": [
        "### Prediksi Model"
      ],
      "metadata": {
        "id": "ltfyIRg2nRbh"
      }
    },
    {
      "cell_type": "code",
      "source": [
        "contoh_review = [\"jaringan <provider_name> sangat baik\"]\n",
        "prediksi = model.predict(contoh_review) # Probabilitas\n",
        "prediksi.squeeze()  # diatas 0.5 berarti label 1 atau sentimen positif, begitu juga sebaliknya"
      ],
      "metadata": {
        "id": "_GoelVHx_QZ-",
        "colab": {
          "base_uri": "https://localhost:8080/"
        },
        "outputId": "71a722e8-34d6-4bad-e793-3d39b4013e32"
      },
      "execution_count": null,
      "outputs": [
        {
          "output_type": "execute_result",
          "data": {
            "text/plain": [
              "array(0.5287976, dtype=float32)"
            ]
          },
          "metadata": {},
          "execution_count": 33
        }
      ]
    },
    {
      "cell_type": "markdown",
      "source": [
        "# Multi-Label dan Multi-Class Sentimen Analysis\n",
        "Analisis sentimen yang biasa kita lakukan merupakan klasifikasi multi-class, yang mana target atau output dari data merupakan salah satu dari kategori 2 class berbeda, positif dan negatif.\n",
        "\n",
        "Multi-label berarti, output klasifikasi kita bisa lebih dari satu, seperti misalnya kita ingin melakukan prediksi sentimen. Namun, sentimen tadi ditujukan pada beberapa topik atau subjek seperti bahan bakar, mesin, harga, servis dll.\n",
        "\n",
        "Seperti masalah yang akan kita hadapi nanti, kita memiliki data tentang review mobil, tiap review memiliki beberapa label dan masing-masing memiliki 3 class: netral, positif dan negatif. Kita disuruh untuk membuat model machine learning yang dapat memprediksi review ke output yang memiliki banyak label dan banyak class.\n",
        "\n",
        "Kasus ini merupakan salah satu penerapan Natural Language Understanding, yang mana selain tahu tentang hubungan input dan output, komputer diharapkan untuk paham juga tentang apa yang ditulis atau dibicarakan."
      ],
      "metadata": {
        "id": "lEhtpbmtKdVv"
      }
    },
    {
      "cell_type": "markdown",
      "source": [
        "## Load Data\n",
        "Sumber data masih sama, hanya berbeda file"
      ],
      "metadata": {
        "id": "ERZVWEVRLJAp"
      }
    },
    {
      "cell_type": "code",
      "source": [
        "train_df = pd.read_csv(\"/content/Data-NLP-Bahasa-Indonesia/review_mobil/train_preprocess.csv\")\n",
        "train_df.head()"
      ],
      "metadata": {
        "colab": {
          "base_uri": "https://localhost:8080/",
          "height": 389
        },
        "id": "jE25CA13Kgkt",
        "outputId": "b8a775f2-8053-45bf-8aa6-8edad9c82636"
      },
      "execution_count": null,
      "outputs": [
        {
          "output_type": "execute_result",
          "data": {
            "text/html": [
              "\n",
              "  <div id=\"df-4a1e2367-21e7-4191-869c-a234b6fd33b4\">\n",
              "    <div class=\"colab-df-container\">\n",
              "      <div>\n",
              "<style scoped>\n",
              "    .dataframe tbody tr th:only-of-type {\n",
              "        vertical-align: middle;\n",
              "    }\n",
              "\n",
              "    .dataframe tbody tr th {\n",
              "        vertical-align: top;\n",
              "    }\n",
              "\n",
              "    .dataframe thead th {\n",
              "        text-align: right;\n",
              "    }\n",
              "</style>\n",
              "<table border=\"1\" class=\"dataframe\">\n",
              "  <thead>\n",
              "    <tr style=\"text-align: right;\">\n",
              "      <th></th>\n",
              "      <th>sentence</th>\n",
              "      <th>fuel</th>\n",
              "      <th>machine</th>\n",
              "      <th>others</th>\n",
              "      <th>part</th>\n",
              "      <th>price</th>\n",
              "      <th>service</th>\n",
              "    </tr>\n",
              "  </thead>\n",
              "  <tbody>\n",
              "    <tr>\n",
              "      <th>0</th>\n",
              "      <td>Saya memakai Honda Jazz GK5 tahun 2014 ( pertama meluncur ) . Mobil nya bagus dan enak sesuai moto nya menyenangkan untuk dikendarai</td>\n",
              "      <td>neutral</td>\n",
              "      <td>neutral</td>\n",
              "      <td>positive</td>\n",
              "      <td>neutral</td>\n",
              "      <td>neutral</td>\n",
              "      <td>neutral</td>\n",
              "    </tr>\n",
              "    <tr>\n",
              "      <th>1</th>\n",
              "      <td>Avanza kenapa jadi boros bensin begini dah ah. Baru diisi sudah mau setengah saja .</td>\n",
              "      <td>negative</td>\n",
              "      <td>neutral</td>\n",
              "      <td>neutral</td>\n",
              "      <td>neutral</td>\n",
              "      <td>neutral</td>\n",
              "      <td>neutral</td>\n",
              "    </tr>\n",
              "    <tr>\n",
              "      <th>2</th>\n",
              "      <td>saran ku dan pengalaman ku , mending beli mobil niaga L300 atau canter . irit dan bandel .</td>\n",
              "      <td>positive</td>\n",
              "      <td>positive</td>\n",
              "      <td>neutral</td>\n",
              "      <td>neutral</td>\n",
              "      <td>neutral</td>\n",
              "      <td>neutral</td>\n",
              "    </tr>\n",
              "    <tr>\n",
              "      <th>3</th>\n",
              "      <td>Dari segi harga juga pajero lebih mahal 30 jutaan dibanding fortuner</td>\n",
              "      <td>neutral</td>\n",
              "      <td>neutral</td>\n",
              "      <td>neutral</td>\n",
              "      <td>neutral</td>\n",
              "      <td>positive</td>\n",
              "      <td>neutral</td>\n",
              "    </tr>\n",
              "    <tr>\n",
              "      <th>4</th>\n",
              "      <td>Kalo menurut gw enak pajero si</td>\n",
              "      <td>neutral</td>\n",
              "      <td>neutral</td>\n",
              "      <td>positive</td>\n",
              "      <td>neutral</td>\n",
              "      <td>neutral</td>\n",
              "      <td>neutral</td>\n",
              "    </tr>\n",
              "  </tbody>\n",
              "</table>\n",
              "</div>\n",
              "      <button class=\"colab-df-convert\" onclick=\"convertToInteractive('df-4a1e2367-21e7-4191-869c-a234b6fd33b4')\"\n",
              "              title=\"Convert this dataframe to an interactive table.\"\n",
              "              style=\"display:none;\">\n",
              "        \n",
              "  <svg xmlns=\"http://www.w3.org/2000/svg\" height=\"24px\"viewBox=\"0 0 24 24\"\n",
              "       width=\"24px\">\n",
              "    <path d=\"M0 0h24v24H0V0z\" fill=\"none\"/>\n",
              "    <path d=\"M18.56 5.44l.94 2.06.94-2.06 2.06-.94-2.06-.94-.94-2.06-.94 2.06-2.06.94zm-11 1L8.5 8.5l.94-2.06 2.06-.94-2.06-.94L8.5 2.5l-.94 2.06-2.06.94zm10 10l.94 2.06.94-2.06 2.06-.94-2.06-.94-.94-2.06-.94 2.06-2.06.94z\"/><path d=\"M17.41 7.96l-1.37-1.37c-.4-.4-.92-.59-1.43-.59-.52 0-1.04.2-1.43.59L10.3 9.45l-7.72 7.72c-.78.78-.78 2.05 0 2.83L4 21.41c.39.39.9.59 1.41.59.51 0 1.02-.2 1.41-.59l7.78-7.78 2.81-2.81c.8-.78.8-2.07 0-2.86zM5.41 20L4 18.59l7.72-7.72 1.47 1.35L5.41 20z\"/>\n",
              "  </svg>\n",
              "      </button>\n",
              "      \n",
              "  <style>\n",
              "    .colab-df-container {\n",
              "      display:flex;\n",
              "      flex-wrap:wrap;\n",
              "      gap: 12px;\n",
              "    }\n",
              "\n",
              "    .colab-df-convert {\n",
              "      background-color: #E8F0FE;\n",
              "      border: none;\n",
              "      border-radius: 50%;\n",
              "      cursor: pointer;\n",
              "      display: none;\n",
              "      fill: #1967D2;\n",
              "      height: 32px;\n",
              "      padding: 0 0 0 0;\n",
              "      width: 32px;\n",
              "    }\n",
              "\n",
              "    .colab-df-convert:hover {\n",
              "      background-color: #E2EBFA;\n",
              "      box-shadow: 0px 1px 2px rgba(60, 64, 67, 0.3), 0px 1px 3px 1px rgba(60, 64, 67, 0.15);\n",
              "      fill: #174EA6;\n",
              "    }\n",
              "\n",
              "    [theme=dark] .colab-df-convert {\n",
              "      background-color: #3B4455;\n",
              "      fill: #D2E3FC;\n",
              "    }\n",
              "\n",
              "    [theme=dark] .colab-df-convert:hover {\n",
              "      background-color: #434B5C;\n",
              "      box-shadow: 0px 1px 3px 1px rgba(0, 0, 0, 0.15);\n",
              "      filter: drop-shadow(0px 1px 2px rgba(0, 0, 0, 0.3));\n",
              "      fill: #FFFFFF;\n",
              "    }\n",
              "  </style>\n",
              "\n",
              "      <script>\n",
              "        const buttonEl =\n",
              "          document.querySelector('#df-4a1e2367-21e7-4191-869c-a234b6fd33b4 button.colab-df-convert');\n",
              "        buttonEl.style.display =\n",
              "          google.colab.kernel.accessAllowed ? 'block' : 'none';\n",
              "\n",
              "        async function convertToInteractive(key) {\n",
              "          const element = document.querySelector('#df-4a1e2367-21e7-4191-869c-a234b6fd33b4');\n",
              "          const dataTable =\n",
              "            await google.colab.kernel.invokeFunction('convertToInteractive',\n",
              "                                                     [key], {});\n",
              "          if (!dataTable) return;\n",
              "\n",
              "          const docLinkHtml = 'Like what you see? Visit the ' +\n",
              "            '<a target=\"_blank\" href=https://colab.research.google.com/notebooks/data_table.ipynb>data table notebook</a>'\n",
              "            + ' to learn more about interactive tables.';\n",
              "          element.innerHTML = '';\n",
              "          dataTable['output_type'] = 'display_data';\n",
              "          await google.colab.output.renderOutput(dataTable, element);\n",
              "          const docLink = document.createElement('div');\n",
              "          docLink.innerHTML = docLinkHtml;\n",
              "          element.appendChild(docLink);\n",
              "        }\n",
              "      </script>\n",
              "    </div>\n",
              "  </div>\n",
              "  "
            ],
            "text/plain": [
              "                                                                                                                               sentence  \\\n",
              "0  Saya memakai Honda Jazz GK5 tahun 2014 ( pertama meluncur ) . Mobil nya bagus dan enak sesuai moto nya menyenangkan untuk dikendarai   \n",
              "1                                                   Avanza kenapa jadi boros bensin begini dah ah. Baru diisi sudah mau setengah saja .   \n",
              "2                                            saran ku dan pengalaman ku , mending beli mobil niaga L300 atau canter . irit dan bandel .   \n",
              "3                                                                  Dari segi harga juga pajero lebih mahal 30 jutaan dibanding fortuner   \n",
              "4                                                                                                        Kalo menurut gw enak pajero si   \n",
              "\n",
              "       fuel   machine    others     part     price  service  \n",
              "0   neutral   neutral  positive  neutral   neutral  neutral  \n",
              "1  negative   neutral   neutral  neutral   neutral  neutral  \n",
              "2  positive  positive   neutral  neutral   neutral  neutral  \n",
              "3   neutral   neutral   neutral  neutral  positive  neutral  \n",
              "4   neutral   neutral  positive  neutral   neutral  neutral  "
            ]
          },
          "metadata": {},
          "execution_count": 37
        }
      ]
    },
    {
      "cell_type": "markdown",
      "source": [
        "## Text Preprocessing\n",
        "Jika sebelumnya kita menghilangkan beberapa tanda baca, sekarang kita akan menghilangkan semua tanda baca."
      ],
      "metadata": {
        "id": "uvBJMYAfLK2z"
      }
    },
    {
      "cell_type": "markdown",
      "source": [
        "### Text Cleaning"
      ],
      "metadata": {
        "id": "A_eP4ye_Mn4i"
      }
    },
    {
      "cell_type": "code",
      "source": [
        "punctuations = string.punctuation\n",
        "\n",
        "def punct2wspace(text):\n",
        "    return re.sub(r\"[{}]+\".format(punctuations), \" \", text)\n",
        "\n",
        "def normalize_wspace(text):\n",
        "    return re.sub(r\"\\s+\", \" \", text)\n",
        "\n",
        "def casefolding(text):\n",
        "    return text.lower()"
      ],
      "metadata": {
        "id": "fWiiHGOyXamO"
      },
      "execution_count": null,
      "outputs": []
    },
    {
      "cell_type": "code",
      "source": [
        "def preprocess_text(text):\n",
        "    text = punct2wspace(text)\n",
        "    text = normalize_wspace(text)\n",
        "    text = casefolding(text)\n",
        "    return text\n",
        "\n",
        "train_df[\"cleaned_text\"] = train_df[\"sentence\"].apply(preprocess_text)\n",
        "train_df.head()"
      ],
      "metadata": {
        "id": "An_-vkB-LNP6",
        "colab": {
          "base_uri": "https://localhost:8080/",
          "height": 632
        },
        "outputId": "1f7a6460-734c-4adf-af68-f571a1fc1576"
      },
      "execution_count": null,
      "outputs": [
        {
          "output_type": "execute_result",
          "data": {
            "text/html": [
              "\n",
              "  <div id=\"df-97b0ea87-e1a3-4067-b1ae-325be7469f92\">\n",
              "    <div class=\"colab-df-container\">\n",
              "      <div>\n",
              "<style scoped>\n",
              "    .dataframe tbody tr th:only-of-type {\n",
              "        vertical-align: middle;\n",
              "    }\n",
              "\n",
              "    .dataframe tbody tr th {\n",
              "        vertical-align: top;\n",
              "    }\n",
              "\n",
              "    .dataframe thead th {\n",
              "        text-align: right;\n",
              "    }\n",
              "</style>\n",
              "<table border=\"1\" class=\"dataframe\">\n",
              "  <thead>\n",
              "    <tr style=\"text-align: right;\">\n",
              "      <th></th>\n",
              "      <th>sentence</th>\n",
              "      <th>fuel</th>\n",
              "      <th>machine</th>\n",
              "      <th>others</th>\n",
              "      <th>part</th>\n",
              "      <th>price</th>\n",
              "      <th>service</th>\n",
              "      <th>cleaned_text</th>\n",
              "    </tr>\n",
              "  </thead>\n",
              "  <tbody>\n",
              "    <tr>\n",
              "      <th>0</th>\n",
              "      <td>Saya memakai Honda Jazz GK5 tahun 2014 ( pertama meluncur ) . Mobil nya bagus dan enak sesuai moto nya menyenangkan untuk dikendarai</td>\n",
              "      <td>neutral</td>\n",
              "      <td>neutral</td>\n",
              "      <td>positive</td>\n",
              "      <td>neutral</td>\n",
              "      <td>neutral</td>\n",
              "      <td>neutral</td>\n",
              "      <td>saya memakai honda jazz gk5 tahun 2014 pertama meluncur mobil nya bagus dan enak sesuai moto nya menyenangkan untuk dikendarai</td>\n",
              "    </tr>\n",
              "    <tr>\n",
              "      <th>1</th>\n",
              "      <td>Avanza kenapa jadi boros bensin begini dah ah. Baru diisi sudah mau setengah saja .</td>\n",
              "      <td>negative</td>\n",
              "      <td>neutral</td>\n",
              "      <td>neutral</td>\n",
              "      <td>neutral</td>\n",
              "      <td>neutral</td>\n",
              "      <td>neutral</td>\n",
              "      <td>avanza kenapa jadi boros bensin begini dah ah baru diisi sudah mau setengah saja</td>\n",
              "    </tr>\n",
              "    <tr>\n",
              "      <th>2</th>\n",
              "      <td>saran ku dan pengalaman ku , mending beli mobil niaga L300 atau canter . irit dan bandel .</td>\n",
              "      <td>positive</td>\n",
              "      <td>positive</td>\n",
              "      <td>neutral</td>\n",
              "      <td>neutral</td>\n",
              "      <td>neutral</td>\n",
              "      <td>neutral</td>\n",
              "      <td>saran ku dan pengalaman ku mending beli mobil niaga l300 atau canter irit dan bandel</td>\n",
              "    </tr>\n",
              "    <tr>\n",
              "      <th>3</th>\n",
              "      <td>Dari segi harga juga pajero lebih mahal 30 jutaan dibanding fortuner</td>\n",
              "      <td>neutral</td>\n",
              "      <td>neutral</td>\n",
              "      <td>neutral</td>\n",
              "      <td>neutral</td>\n",
              "      <td>positive</td>\n",
              "      <td>neutral</td>\n",
              "      <td>dari segi harga juga pajero lebih mahal 30 jutaan dibanding fortuner</td>\n",
              "    </tr>\n",
              "    <tr>\n",
              "      <th>4</th>\n",
              "      <td>Kalo menurut gw enak pajero si</td>\n",
              "      <td>neutral</td>\n",
              "      <td>neutral</td>\n",
              "      <td>positive</td>\n",
              "      <td>neutral</td>\n",
              "      <td>neutral</td>\n",
              "      <td>neutral</td>\n",
              "      <td>kalo menurut gw enak pajero si</td>\n",
              "    </tr>\n",
              "  </tbody>\n",
              "</table>\n",
              "</div>\n",
              "      <button class=\"colab-df-convert\" onclick=\"convertToInteractive('df-97b0ea87-e1a3-4067-b1ae-325be7469f92')\"\n",
              "              title=\"Convert this dataframe to an interactive table.\"\n",
              "              style=\"display:none;\">\n",
              "        \n",
              "  <svg xmlns=\"http://www.w3.org/2000/svg\" height=\"24px\"viewBox=\"0 0 24 24\"\n",
              "       width=\"24px\">\n",
              "    <path d=\"M0 0h24v24H0V0z\" fill=\"none\"/>\n",
              "    <path d=\"M18.56 5.44l.94 2.06.94-2.06 2.06-.94-2.06-.94-.94-2.06-.94 2.06-2.06.94zm-11 1L8.5 8.5l.94-2.06 2.06-.94-2.06-.94L8.5 2.5l-.94 2.06-2.06.94zm10 10l.94 2.06.94-2.06 2.06-.94-2.06-.94-.94-2.06-.94 2.06-2.06.94z\"/><path d=\"M17.41 7.96l-1.37-1.37c-.4-.4-.92-.59-1.43-.59-.52 0-1.04.2-1.43.59L10.3 9.45l-7.72 7.72c-.78.78-.78 2.05 0 2.83L4 21.41c.39.39.9.59 1.41.59.51 0 1.02-.2 1.41-.59l7.78-7.78 2.81-2.81c.8-.78.8-2.07 0-2.86zM5.41 20L4 18.59l7.72-7.72 1.47 1.35L5.41 20z\"/>\n",
              "  </svg>\n",
              "      </button>\n",
              "      \n",
              "  <style>\n",
              "    .colab-df-container {\n",
              "      display:flex;\n",
              "      flex-wrap:wrap;\n",
              "      gap: 12px;\n",
              "    }\n",
              "\n",
              "    .colab-df-convert {\n",
              "      background-color: #E8F0FE;\n",
              "      border: none;\n",
              "      border-radius: 50%;\n",
              "      cursor: pointer;\n",
              "      display: none;\n",
              "      fill: #1967D2;\n",
              "      height: 32px;\n",
              "      padding: 0 0 0 0;\n",
              "      width: 32px;\n",
              "    }\n",
              "\n",
              "    .colab-df-convert:hover {\n",
              "      background-color: #E2EBFA;\n",
              "      box-shadow: 0px 1px 2px rgba(60, 64, 67, 0.3), 0px 1px 3px 1px rgba(60, 64, 67, 0.15);\n",
              "      fill: #174EA6;\n",
              "    }\n",
              "\n",
              "    [theme=dark] .colab-df-convert {\n",
              "      background-color: #3B4455;\n",
              "      fill: #D2E3FC;\n",
              "    }\n",
              "\n",
              "    [theme=dark] .colab-df-convert:hover {\n",
              "      background-color: #434B5C;\n",
              "      box-shadow: 0px 1px 3px 1px rgba(0, 0, 0, 0.15);\n",
              "      filter: drop-shadow(0px 1px 2px rgba(0, 0, 0, 0.3));\n",
              "      fill: #FFFFFF;\n",
              "    }\n",
              "  </style>\n",
              "\n",
              "      <script>\n",
              "        const buttonEl =\n",
              "          document.querySelector('#df-97b0ea87-e1a3-4067-b1ae-325be7469f92 button.colab-df-convert');\n",
              "        buttonEl.style.display =\n",
              "          google.colab.kernel.accessAllowed ? 'block' : 'none';\n",
              "\n",
              "        async function convertToInteractive(key) {\n",
              "          const element = document.querySelector('#df-97b0ea87-e1a3-4067-b1ae-325be7469f92');\n",
              "          const dataTable =\n",
              "            await google.colab.kernel.invokeFunction('convertToInteractive',\n",
              "                                                     [key], {});\n",
              "          if (!dataTable) return;\n",
              "\n",
              "          const docLinkHtml = 'Like what you see? Visit the ' +\n",
              "            '<a target=\"_blank\" href=https://colab.research.google.com/notebooks/data_table.ipynb>data table notebook</a>'\n",
              "            + ' to learn more about interactive tables.';\n",
              "          element.innerHTML = '';\n",
              "          dataTable['output_type'] = 'display_data';\n",
              "          await google.colab.output.renderOutput(dataTable, element);\n",
              "          const docLink = document.createElement('div');\n",
              "          docLink.innerHTML = docLinkHtml;\n",
              "          element.appendChild(docLink);\n",
              "        }\n",
              "      </script>\n",
              "    </div>\n",
              "  </div>\n",
              "  "
            ],
            "text/plain": [
              "                                                                                                                               sentence  \\\n",
              "0  Saya memakai Honda Jazz GK5 tahun 2014 ( pertama meluncur ) . Mobil nya bagus dan enak sesuai moto nya menyenangkan untuk dikendarai   \n",
              "1                                                   Avanza kenapa jadi boros bensin begini dah ah. Baru diisi sudah mau setengah saja .   \n",
              "2                                            saran ku dan pengalaman ku , mending beli mobil niaga L300 atau canter . irit dan bandel .   \n",
              "3                                                                  Dari segi harga juga pajero lebih mahal 30 jutaan dibanding fortuner   \n",
              "4                                                                                                        Kalo menurut gw enak pajero si   \n",
              "\n",
              "       fuel   machine    others     part     price  service  \\\n",
              "0   neutral   neutral  positive  neutral   neutral  neutral   \n",
              "1  negative   neutral   neutral  neutral   neutral  neutral   \n",
              "2  positive  positive   neutral  neutral   neutral  neutral   \n",
              "3   neutral   neutral   neutral  neutral  positive  neutral   \n",
              "4   neutral   neutral  positive  neutral   neutral  neutral   \n",
              "\n",
              "                                                                                                                     cleaned_text  \n",
              "0  saya memakai honda jazz gk5 tahun 2014 pertama meluncur mobil nya bagus dan enak sesuai moto nya menyenangkan untuk dikendarai  \n",
              "1                                               avanza kenapa jadi boros bensin begini dah ah baru diisi sudah mau setengah saja   \n",
              "2                                           saran ku dan pengalaman ku mending beli mobil niaga l300 atau canter irit dan bandel   \n",
              "3                                                            dari segi harga juga pajero lebih mahal 30 jutaan dibanding fortuner  \n",
              "4                                                                                                  kalo menurut gw enak pajero si  "
            ]
          },
          "metadata": {},
          "execution_count": 39
        }
      ]
    },
    {
      "cell_type": "markdown",
      "source": [
        "### Dapatkan Text dan Label"
      ],
      "metadata": {
        "id": "qMng7uwUX6hU"
      }
    },
    {
      "cell_type": "code",
      "source": [
        "label_map = {\"neutral\": 0, \"positive\": 1, \"negative\": 2}\n",
        "columns = [\"fuel\", \"machine\", \"others\", \"part\", \"price\", \"service\"]\n",
        "target = train_df[columns].apply(lambda col: col.map(label_map), axis=0).to_numpy()\n",
        "features_text = train_df[\"cleaned_text\"]"
      ],
      "metadata": {
        "id": "1mZG2KZ6X8P8"
      },
      "execution_count": null,
      "outputs": []
    },
    {
      "cell_type": "code",
      "source": [
        "# Masukkan ke dalam format tf.Data\n",
        "target_dataset = tf.data.Dataset.from_tensor_slices(target)\n",
        "features_dataset = tf.data.Dataset.from_tensor_slices(features_text)"
      ],
      "metadata": {
        "id": "zEXruERsYeGP"
      },
      "execution_count": null,
      "outputs": []
    },
    {
      "cell_type": "markdown",
      "source": [
        "## Subword Tokenization\n",
        "Berbeda dengan tokenisasi biasa, subword tokenization menggunakan subkata sebagai elemen dalam kosakata. Subword Tokenization dapat mengatasi masalah kata yang tidak diketahui (unknown word) sehingga baik digunakan untuk berbagai macam task NLP."
      ],
      "metadata": {
        "id": "TcLGTTjKrszi"
      }
    },
    {
      "cell_type": "markdown",
      "source": [
        "### Konfigurasi BERT Tokenizer"
      ],
      "metadata": {
        "id": "3NHAhdOhr-O1"
      }
    },
    {
      "cell_type": "code",
      "source": [
        "vocab_size = 10000\n",
        "bert_tokenizer_params = dict(lower_case=True)\n",
        "\n",
        "bert_vocab_args = dict(\n",
        "    # Ukuran kosakata\n",
        "    vocab_size=vocab_size,\n",
        "    # Token pesanan yang harus dimasukkan dalam kosa kata\n",
        "    reserved_tokens={},\n",
        "    # Argumen untuk `text.BertTokenizer`\n",
        "    bert_tokenizer_params=bert_tokenizer_params,\n",
        "    # Argumen untuk `wordpiece_vocab.wordpiece_tokenizer_learner_lib.learn`\n",
        "    learn_params={},\n",
        ")"
      ],
      "metadata": {
        "id": "zl0M9qYqrwK_"
      },
      "execution_count": null,
      "outputs": []
    },
    {
      "cell_type": "markdown",
      "source": [
        "### Buat Kosakata"
      ],
      "metadata": {
        "id": "fyQa6kR7sTb4"
      }
    },
    {
      "cell_type": "code",
      "source": [
        "# review_vocab\n",
        "review_vocab = bert_vocab.bert_vocab_from_dataset(\n",
        "    features_dataset,\n",
        "    **bert_vocab_args\n",
        ")"
      ],
      "metadata": {
        "id": "yrb6rE4asVP0"
      },
      "execution_count": null,
      "outputs": []
    },
    {
      "cell_type": "code",
      "source": [
        "print(review_vocab[:10])\n",
        "print(review_vocab[10:20])\n",
        "print(review_vocab[100:110])\n",
        "print(review_vocab[200:210])"
      ],
      "metadata": {
        "id": "hQG4uiyXu_lu",
        "colab": {
          "base_uri": "https://localhost:8080/"
        },
        "outputId": "1b03b2fc-1c0b-4403-c9c1-001d50e0e591"
      },
      "execution_count": null,
      "outputs": [
        {
          "output_type": "stream",
          "name": "stdout",
          "text": [
            "['0', '1', '2', '3', '4', '5', '6', '7', '8', '9']\n",
            "['a', 'b', 'c', 'd', 'e', 'f', 'g', 'h', 'i', 'j']\n",
            "['sama', '##r', 'itu', 'pajero', '##0', '##ya', 'gak', 'ya', '##ga', '##p']\n",
            "['mobilio', '##5', '##tas', '##us', 'dibawa', 'keluarga', 'kota', 'lama', 'new', 'sampai']\n"
          ]
        }
      ]
    },
    {
      "cell_type": "markdown",
      "source": [
        "### Simpan Kosakata"
      ],
      "metadata": {
        "id": "n6hFPFphwhoj"
      }
    },
    {
      "cell_type": "code",
      "source": [
        "def write_vocab_file(filepath, vocab):\n",
        "    with open(filepath, 'w') as f:\n",
        "        for token in vocab:\n",
        "            print(token, file=f)"
      ],
      "metadata": {
        "id": "XC9_YjwlwjNT"
      },
      "execution_count": null,
      "outputs": []
    },
    {
      "cell_type": "code",
      "source": [
        "write_vocab_file(\"review_vocab.txt\", review_vocab)"
      ],
      "metadata": {
        "id": "WQIxSeVTwxCA"
      },
      "execution_count": null,
      "outputs": []
    },
    {
      "cell_type": "markdown",
      "source": [
        "### Buat Tokenizer"
      ],
      "metadata": {
        "id": "ca8xink2xKIV"
      }
    },
    {
      "cell_type": "code",
      "source": [
        "review_tokenizer = text.BertTokenizer(\"review_vocab.txt\", **bert_tokenizer_params)"
      ],
      "metadata": {
        "id": "2fQfHiJ8xNQT"
      },
      "execution_count": null,
      "outputs": []
    },
    {
      "cell_type": "markdown",
      "source": [
        "#### Melihat isi Data"
      ],
      "metadata": {
        "id": "pg-o3f_M3i5K"
      }
    },
    {
      "cell_type": "code",
      "source": [
        "for examples in features_dataset.batch(3).take(1):\n",
        "    for text in examples:\n",
        "        print(text)"
      ],
      "metadata": {
        "id": "2FYaC2gA2HIm",
        "colab": {
          "base_uri": "https://localhost:8080/"
        },
        "outputId": "284d9b58-b41e-4450-e5a9-7efed260e184"
      },
      "execution_count": null,
      "outputs": [
        {
          "output_type": "stream",
          "name": "stdout",
          "text": [
            "tf.Tensor(b'saya memakai honda jazz gk5 tahun 2014 pertama meluncur mobil nya bagus dan enak sesuai moto nya menyenangkan untuk dikendarai', shape=(), dtype=string)\n",
            "tf.Tensor(b'avanza kenapa jadi boros bensin begini dah ah baru diisi sudah mau setengah saja ', shape=(), dtype=string)\n",
            "tf.Tensor(b'saran ku dan pengalaman ku mending beli mobil niaga l300 atau canter irit dan bandel ', shape=(), dtype=string)\n"
          ]
        }
      ]
    },
    {
      "cell_type": "markdown",
      "source": [
        "#### Tokenisasi"
      ],
      "metadata": {
        "id": "PMgQJoZn3lgg"
      }
    },
    {
      "cell_type": "code",
      "source": [
        "token_batch = review_tokenizer.tokenize(examples)\n",
        "token_batch = token_batch.merge_dims(-2, -1)\n",
        "token_batch"
      ],
      "metadata": {
        "colab": {
          "base_uri": "https://localhost:8080/"
        },
        "id": "fFV8nOyl2x5d",
        "outputId": "542961fc-7ec5-477c-8c4b-15b9f17dd2c6"
      },
      "execution_count": null,
      "outputs": [
        {
          "output_type": "execute_result",
          "data": {
            "text/plain": [
              "<tf.RaggedTensor [[38, 22, 236, 116, 381, 51, 265, 16, 78, 201, 91, 2, 104, 380, 344, 25,\n",
              "  127, 328, 22, 235, 163, 302, 214, 39, 35, 76, 37, 87, 27, 253, 329, 45,\n",
              "  22, 85, 54, 85, 35, 22, 195, 141, 195, 75, 61, 55, 360]                ,\n",
              " [46, 332, 154, 174, 166, 11, 58, 225, 62, 45, 13, 73, 10, 53, 172, 41, 185,\n",
              "  45, 82, 218, 27, 152, 325, 93]                                            ,\n",
              " [27, 126, 40, 198, 37, 410, 198, 266, 123, 39, 23, 45, 49, 108, 21, 416,\n",
              "  231, 261, 12, 40, 144, 47, 37, 165]                                    ]>"
            ]
          },
          "metadata": {},
          "execution_count": 52
        }
      ]
    },
    {
      "cell_type": "markdown",
      "source": [
        "#### Detokenisasi"
      ],
      "metadata": {
        "id": "OkJ3F6Y33p2q"
      }
    },
    {
      "cell_type": "code",
      "source": [
        "word = review_tokenizer.detokenize(token_batch)\n",
        "tf.strings.reduce_join(word, separator=\" \", axis=-1)"
      ],
      "metadata": {
        "id": "3fbqCoB-3sdg",
        "colab": {
          "base_uri": "https://localhost:8080/"
        },
        "outputId": "d91f1efc-98ee-4496-ec32-f07b78c4fe60"
      },
      "execution_count": null,
      "outputs": [
        {
          "output_type": "execute_result",
          "data": {
            "text/plain": [
              "<tf.Tensor: shape=(3,), dtype=string, numpy=\n",
              "array([b'saya memakai honda jazz gk5 tahun 2014 pertama meluncur mobil nya bagus dan enak sesuai moto nya menyenangkan untuk dikendarai',\n",
              "       b'avanza kenapa jadi boros bensin begini dah ah baru diisi sudah mau setengah saja',\n",
              "       b'saran ku dan pengalaman ku mending beli mobil niaga l300 atau canter irit dan bandel'],\n",
              "      dtype=object)>"
            ]
          },
          "metadata": {},
          "execution_count": 54
        }
      ]
    },
    {
      "cell_type": "markdown",
      "source": [
        "## Input Pipeline\n",
        "Pembuatan pipeline dari input akan dibantu oleh tensorflow `tf.data.Dataset` API, yang dapat memproses data secara berurutan."
      ],
      "metadata": {
        "id": "-P4M21g1wM7J"
      }
    },
    {
      "cell_type": "code",
      "source": [
        "# Gabungkan fitur dan target\n",
        "review_dataset = tf.data.Dataset.zip((features_dataset, target_dataset))\n",
        "review_dataset"
      ],
      "metadata": {
        "colab": {
          "base_uri": "https://localhost:8080/"
        },
        "id": "tWFUQs_vLMKx",
        "outputId": "3f165db0-fda2-47f4-fd00-deb55c59de92"
      },
      "execution_count": null,
      "outputs": [
        {
          "output_type": "execute_result",
          "data": {
            "text/plain": [
              "<ZipDataset element_spec=(TensorSpec(shape=(), dtype=tf.string, name=None), TensorSpec(shape=(6,), dtype=tf.int64, name=None))>"
            ]
          },
          "metadata": {},
          "execution_count": 59
        }
      ]
    },
    {
      "cell_type": "code",
      "source": [
        "def tokenize_text(tensor, target):\n",
        "    token_batch = review_tokenizer.tokenize(tensor)\n",
        "    token_batch = token_batch.merge_dims(-2, -1)\n",
        "    return token_batch.to_tensor(), target\n",
        "\n",
        "def split_label(tensor, target):\n",
        "    return tensor, {col: target[:, index] for index, col in enumerate(columns)}\n",
        "\n",
        "review_dataset = (review_dataset.batch(32)\n",
        "                                .prefetch(tf.data.AUTOTUNE)\n",
        "                                .map(tokenize_text)\n",
        "                                .map(split_label))"
      ],
      "metadata": {
        "id": "iCrBPG0zwPrK"
      },
      "execution_count": null,
      "outputs": []
    },
    {
      "cell_type": "markdown",
      "source": [
        "## Model Building: Neural Network\n",
        "Pembuatan model masih menggunakan keras, namun pendekatan yang kita lakukan adalah functional API, sedangkan sebelumnya kita memakai sequential model.\n",
        "\n",
        "Functional API memungkinkan kita untuk membuat struktur neural network yang lebih bervariasi, berbeda dengan struktur yang berurutan seperti sequential."
      ],
      "metadata": {
        "id": "EOrZNd5rxhvq"
      }
    },
    {
      "cell_type": "markdown",
      "source": [
        "### Bangun Model"
      ],
      "metadata": {
        "id": "idv20xj7m8Zw"
      }
    },
    {
      "cell_type": "code",
      "source": [
        "embedding_dim = 64\n",
        "n_class = 3\n",
        "\n",
        "# Buat model dengan functional API\n",
        "input_tensor = keras.Input(shape=(None,), dtype=\"int64\")\n",
        "x = keras.layers.Embedding(vocab_size, embedding_dim, mask_zero=True)(input_tensor)\n",
        "x = keras.layers.LSTM(32)(x)\n",
        "x = keras.layers.Dropout(0.5)(x)\n",
        "x = keras.layers.Dense(16)(x)\n",
        "\n",
        "fuel_output = keras.layers.Dense(n_class, activation=\"softmax\", name=\"fuel\")(x)\n",
        "machine_output = keras.layers.Dense(n_class, activation=\"softmax\", name=\"machine\")(x)\n",
        "others_output = keras.layers.Dense(n_class, activation=\"softmax\", name=\"others\")(x)\n",
        "part_output = keras.layers.Dense(n_class, activation=\"softmax\", name=\"part\")(x)\n",
        "price_output = keras.layers.Dense(n_class, activation=\"softmax\", name=\"price\")(x)\n",
        "service_output = keras.layers.Dense(n_class, activation=\"softmax\", name=\"service\")(x)\n",
        "\n",
        "outputs = [fuel_output, machine_output, others_output, part_output, price_output, service_output]\n",
        "\n",
        "model = keras.Model(inputs=input_tensor, outputs={col: out for col, out in zip(columns, outputs)})\n",
        "\n",
        "# Tentukan loss, optimizer dan metrik yang akan digunakan\n",
        "model.compile(loss=\"sparse_categorical_crossentropy\", \n",
        "              optimizer=\"adam\",\n",
        "              metrics=[\"acc\"])"
      ],
      "metadata": {
        "id": "IpSK39CDxkWh"
      },
      "execution_count": null,
      "outputs": []
    },
    {
      "cell_type": "markdown",
      "source": [
        "### Struktur Model"
      ],
      "metadata": {
        "id": "XfC1-N8wm_Q8"
      }
    },
    {
      "cell_type": "code",
      "source": [
        "model.summary()"
      ],
      "metadata": {
        "colab": {
          "base_uri": "https://localhost:8080/"
        },
        "id": "XIF3eRa3Jv8q",
        "outputId": "fc17798e-b30e-4f75-cf22-4f7f9622d101"
      },
      "execution_count": null,
      "outputs": [
        {
          "output_type": "stream",
          "name": "stdout",
          "text": [
            "Model: \"model_1\"\n",
            "__________________________________________________________________________________________________\n",
            " Layer (type)                   Output Shape         Param #     Connected to                     \n",
            "==================================================================================================\n",
            " input_2 (InputLayer)           [(None, None)]       0           []                               \n",
            "                                                                                                  \n",
            " embedding_5 (Embedding)        (None, None, 64)     640000      ['input_2[0][0]']                \n",
            "                                                                                                  \n",
            " lstm_7 (LSTM)                  (None, 32)           12416       ['embedding_5[0][0]']            \n",
            "                                                                                                  \n",
            " dropout_4 (Dropout)            (None, 32)           0           ['lstm_7[0][0]']                 \n",
            "                                                                                                  \n",
            " dense_7 (Dense)                (None, 16)           528         ['dropout_4[0][0]']              \n",
            "                                                                                                  \n",
            " fuel (Dense)                   (None, 3)            51          ['dense_7[0][0]']                \n",
            "                                                                                                  \n",
            " machine (Dense)                (None, 3)            51          ['dense_7[0][0]']                \n",
            "                                                                                                  \n",
            " others (Dense)                 (None, 3)            51          ['dense_7[0][0]']                \n",
            "                                                                                                  \n",
            " part (Dense)                   (None, 3)            51          ['dense_7[0][0]']                \n",
            "                                                                                                  \n",
            " price (Dense)                  (None, 3)            51          ['dense_7[0][0]']                \n",
            "                                                                                                  \n",
            " service (Dense)                (None, 3)            51          ['dense_7[0][0]']                \n",
            "                                                                                                  \n",
            "==================================================================================================\n",
            "Total params: 653,250\n",
            "Trainable params: 653,250\n",
            "Non-trainable params: 0\n",
            "__________________________________________________________________________________________________\n"
          ]
        }
      ]
    },
    {
      "cell_type": "markdown",
      "source": [
        "### Latih Model"
      ],
      "metadata": {
        "id": "jYK3j4denBjw"
      }
    },
    {
      "cell_type": "code",
      "source": [
        "# Melatih model\n",
        "history = model.fit(review_dataset, epochs=10)"
      ],
      "metadata": {
        "id": "Sc4DSqBwKffL",
        "colab": {
          "base_uri": "https://localhost:8080/"
        },
        "outputId": "ec129cd7-03f8-4e83-f408-d23a9bdb60e2"
      },
      "execution_count": null,
      "outputs": [
        {
          "output_type": "stream",
          "name": "stdout",
          "text": [
            "Epoch 1/10\n",
            "26/26 [==============================] - 8s 55ms/step - loss: 6.0377 - fuel_loss: 0.9514 - machine_loss: 0.9864 - others_loss: 1.0617 - part_loss: 1.1150 - price_loss: 0.9028 - service_loss: 1.0203 - fuel_acc: 0.7778 - machine_acc: 0.7173 - others_acc: 0.4531 - part_acc: 0.2086 - price_acc: 0.7926 - service_acc: 0.6741\n",
            "Epoch 2/10\n",
            "26/26 [==============================] - 1s 56ms/step - loss: 4.5073 - fuel_loss: 0.6091 - machine_loss: 0.7443 - others_loss: 0.8845 - part_loss: 1.0190 - price_loss: 0.6333 - service_loss: 0.6171 - fuel_acc: 0.8370 - machine_acc: 0.7827 - others_acc: 0.6272 - part_acc: 0.5272 - price_acc: 0.8321 - service_acc: 0.8506\n",
            "Epoch 3/10\n",
            "26/26 [==============================] - 1s 55ms/step - loss: 4.1225 - fuel_loss: 0.5454 - machine_loss: 0.6941 - others_loss: 0.8623 - part_loss: 0.8537 - price_loss: 0.5905 - service_loss: 0.5766 - fuel_acc: 0.8358 - machine_acc: 0.7840 - others_acc: 0.6432 - part_acc: 0.6988 - price_acc: 0.8309 - service_acc: 0.8519\n",
            "Epoch 4/10\n",
            "26/26 [==============================] - 1s 55ms/step - loss: 3.9410 - fuel_loss: 0.5203 - machine_loss: 0.6575 - others_loss: 0.8538 - part_loss: 0.8243 - price_loss: 0.5476 - service_loss: 0.5375 - fuel_acc: 0.8383 - machine_acc: 0.7840 - others_acc: 0.6346 - part_acc: 0.7099 - price_acc: 0.8309 - service_acc: 0.8519\n",
            "Epoch 5/10\n",
            "26/26 [==============================] - 1s 56ms/step - loss: 3.8612 - fuel_loss: 0.4897 - machine_loss: 0.6438 - others_loss: 0.8538 - part_loss: 0.8110 - price_loss: 0.5284 - service_loss: 0.5345 - fuel_acc: 0.8383 - machine_acc: 0.7840 - others_acc: 0.6494 - part_acc: 0.7123 - price_acc: 0.8321 - service_acc: 0.8519\n",
            "Epoch 6/10\n",
            "26/26 [==============================] - 1s 55ms/step - loss: 3.7588 - fuel_loss: 0.4510 - machine_loss: 0.6334 - others_loss: 0.8438 - part_loss: 0.7946 - price_loss: 0.5076 - service_loss: 0.5284 - fuel_acc: 0.8383 - machine_acc: 0.7840 - others_acc: 0.6506 - part_acc: 0.7123 - price_acc: 0.8321 - service_acc: 0.8519\n",
            "Epoch 7/10\n",
            "26/26 [==============================] - 1s 55ms/step - loss: 3.6036 - fuel_loss: 0.4066 - machine_loss: 0.6187 - others_loss: 0.8160 - part_loss: 0.7831 - price_loss: 0.4691 - service_loss: 0.5102 - fuel_acc: 0.8568 - machine_acc: 0.7852 - others_acc: 0.6519 - part_acc: 0.7086 - price_acc: 0.8358 - service_acc: 0.8519\n",
            "Epoch 8/10\n",
            "26/26 [==============================] - 1s 55ms/step - loss: 3.4483 - fuel_loss: 0.3585 - machine_loss: 0.6013 - others_loss: 0.8273 - part_loss: 0.7522 - price_loss: 0.4485 - service_loss: 0.4605 - fuel_acc: 0.8741 - machine_acc: 0.7802 - others_acc: 0.6494 - part_acc: 0.7148 - price_acc: 0.8321 - service_acc: 0.8531\n",
            "Epoch 9/10\n",
            "26/26 [==============================] - 1s 56ms/step - loss: 3.2481 - fuel_loss: 0.3401 - machine_loss: 0.5616 - others_loss: 0.7962 - part_loss: 0.7072 - price_loss: 0.4332 - service_loss: 0.4098 - fuel_acc: 0.8728 - machine_acc: 0.7815 - others_acc: 0.6543 - part_acc: 0.7395 - price_acc: 0.8407 - service_acc: 0.8568\n",
            "Epoch 10/10\n",
            "26/26 [==============================] - 1s 56ms/step - loss: 3.0630 - fuel_loss: 0.3136 - machine_loss: 0.5483 - others_loss: 0.7661 - part_loss: 0.6836 - price_loss: 0.3915 - service_loss: 0.3599 - fuel_acc: 0.8827 - machine_acc: 0.7802 - others_acc: 0.6543 - part_acc: 0.7457 - price_acc: 0.8494 - service_acc: 0.8679\n"
          ]
        }
      ]
    },
    {
      "cell_type": "markdown",
      "source": [
        "### Prediksi"
      ],
      "metadata": {
        "id": "xXKaUJ6FnDkl"
      }
    },
    {
      "cell_type": "code",
      "source": [
        "examples = tf.constant([\"bahan bakar mobil avanza masih kurang keren\"])\n",
        "token = review_tokenizer.tokenize(examples)\n",
        "token = token.merge_dims(-2, -1)\n",
        "token = token.to_tensor()\n",
        "\n",
        "model.predict(token)"
      ],
      "metadata": {
        "id": "eH9epUBPSE_b",
        "colab": {
          "base_uri": "https://localhost:8080/"
        },
        "outputId": "bbb3e0d9-01bc-465a-8ba3-f5b03aaa7e5c"
      },
      "execution_count": null,
      "outputs": [
        {
          "output_type": "execute_result",
          "data": {
            "text/plain": [
              "{'fuel': array([[0.7186369 , 0.24966142, 0.03170165]], dtype=float32),\n",
              " 'machine': array([[0.71628493, 0.25233042, 0.0313846 ]], dtype=float32),\n",
              " 'others': array([[0.58306205, 0.38260263, 0.03433536]], dtype=float32),\n",
              " 'part': array([[0.8418998 , 0.08556066, 0.07253959]], dtype=float32),\n",
              " 'price': array([[0.8894462 , 0.08698163, 0.02357225]], dtype=float32),\n",
              " 'service': array([[0.96959394, 0.01976297, 0.01064306]], dtype=float32)}"
            ]
          },
          "metadata": {},
          "execution_count": 69
        }
      ]
    },
    {
      "cell_type": "code",
      "source": [
        "{\"neutral\": 0, \"positive\": 1, \"negative\": 2}"
      ],
      "metadata": {
        "colab": {
          "base_uri": "https://localhost:8080/"
        },
        "id": "oKbkNYcdeUHe",
        "outputId": "63ff627f-7800-4e45-9807-01c2e4c2f87e"
      },
      "execution_count": null,
      "outputs": [
        {
          "output_type": "execute_result",
          "data": {
            "text/plain": [
              "{'negative': 2, 'neutral': 0, 'positive': 1}"
            ]
          },
          "metadata": {},
          "execution_count": 70
        }
      ]
    }
  ]
}